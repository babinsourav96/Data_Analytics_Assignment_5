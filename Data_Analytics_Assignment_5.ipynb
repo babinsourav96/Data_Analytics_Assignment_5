{
  "nbformat": 4,
  "nbformat_minor": 0,
  "metadata": {
    "colab": {
      "provenance": []
    },
    "kernelspec": {
      "name": "python3",
      "display_name": "Python 3"
    },
    "language_info": {
      "name": "python"
    }
  },
  "cells": [
    {
      "cell_type": "markdown",
      "source": [
        "#Files, exceptional handling, logging and memory management Questions"
      ],
      "metadata": {
        "id": "PTihQmIm8ySF"
      }
    },
    {
      "cell_type": "markdown",
      "source": [
        "1. What is the difference between interpreted and compiled languages?\n",
        "\n",
        "  - Interpreted Languages: Interpreted languages are translated and executed line by line during runtime, which can be slower but offers more flexibility.\n",
        "  - Compiled Languages: Compiled languages are translated into machine code before runtime, resulting in faster execution.\n"
      ],
      "metadata": {
        "id": "xHI3DfD49BBt"
      }
    },
    {
      "cell_type": "markdown",
      "source": [
        "2. What is exception handling in Python?\n",
        "\n",
        "  - Exception handling in Python is a mechanism that allows programs to gracefully manage and respond to runtime errors or \"exceptions\" that occur during execution, preventing abrupt program termination."
      ],
      "metadata": {
        "id": "UovjiYdN-lj8"
      }
    },
    {
      "cell_type": "markdown",
      "source": [
        "3. What is the purpose of the finally block in exception handling?\n",
        "\n",
        "  - The finally block in Python's exception handling mechanism serves the purpose of ensuring that a specific block of code is always executed, regardless of whether an exception occurred in the try block or not."
      ],
      "metadata": {
        "id": "84RwEWeG_Cuw"
      }
    },
    {
      "cell_type": "markdown",
      "source": [
        "4. What is logging in Python?\n",
        "\n",
        "  - Logging in Python refers to the process of recording events that occur during the execution of a software program. It involves adding calls to your code that, when executed, generate messages containing information about the program's state, errors, warnings, or other significant events."
      ],
      "metadata": {
        "id": "pP3r7eBz_fmr"
      }
    },
    {
      "cell_type": "markdown",
      "source": [
        "5. What is the significance of the __del__ method in Python?\n",
        "\n",
        "  - The __del__ method in Python, often referred to as a \"finalizer,\" is a special method defined within a class that is automatically called by the Python interpreter when an object is about to be garbage collected. Its primary significance lies in enabling resource cleanup and finalization tasks associated with an object before its destruction."
      ],
      "metadata": {
        "id": "jQgSp8_u_rv1"
      }
    },
    {
      "cell_type": "markdown",
      "source": [
        "6. What is the difference between import and from ... import in Python?\n",
        "\n",
        "  - Key Differences:\n",
        "      - Scope of Import: import brings in the entire module; from ... import brings in specific components.\n",
        "      - Access Method: With import, you use module_name.item_name; with from ... import, you use item_name directly.\n",
        "      - Namespace Pollution: from ... import can potentially lead to name collisions if the imported items have the same names as existing variables or functions in your current scope. import avoids this by keeping items within their module's namespace."
      ],
      "metadata": {
        "id": "nM5zfScX_2Zl"
      }
    },
    {
      "cell_type": "markdown",
      "source": [
        "7.  How can you handle multiple exceptions in Python?\n",
        "\n",
        "  - Multiple exceptions can be handled by the following:\n",
        "      - Handling Multiple Exceptions with a Single except Block: If the same handling logic applies to different exception types, they can be grouped into a tuple within a single except clause.\n",
        "      - Handling Multiple Exceptions with Separate except Blocks: If different exception types require distinct handling logic, separate except blocks can be used for each specific exception. The first matching except block will be executed.\n",
        "     - Handling Exceptions through Inheritance: Many built-in exceptions in Python are organized into an inheritance hierarchy. Catching a base class exception will also catch its derived classes. For instance, OSError is a base class for exceptions like FileNotFoundError and PermissionError."
      ],
      "metadata": {
        "id": "o8Q-aUZ6AR3y"
      }
    },
    {
      "cell_type": "markdown",
      "source": [
        "8. What is the purpose of the with statement when handling files in Python?\n",
        "\n",
        "  - The with statement in Python, when used with file handling, serves the purpose of simplifying resource management and ensuring proper cleanup, even in the event of errors."
      ],
      "metadata": {
        "id": "Ch5UowZeC5AQ"
      }
    },
    {
      "cell_type": "markdown",
      "source": [
        "9. What is the difference between multithreading and multiprocessing?\n",
        "\n",
        "  - Differences are as follows:-\n",
        "      - Multithreading:\n",
        "          - Execution Unit: Uses threads, which are lightweight units of execution within a single process.\n",
        "          - Memory Space:Threads within the same process share the same memory space, making data sharing easier.\n",
        "          - Global Interpreter Lock (GIL):In Python, the GIL restricts multithreading to concurrency rather than true parallelism for CPU-bound tasks. This means only one thread can execute Python bytecode at a time, even on multi-core systems.\n",
        "          - Best for:I/O-bound tasks (e.g., network requests, file operations) where threads spend time waiting for external resources, allowing other threads to run during these waiting periods.\n",
        "      - Multiprocessing:\n",
        "          - Execution Unit: Uses processes, which are independent programs with their own memory space.\n",
        "          - Memory Space: Each process has its own isolated memory space, preventing direct data sharing and requiring inter-process communication mechanisms (e.g., queues, pipes) for data exchange.\n",
        "          - Global Interpreter Lock (GIL): Each process has its own Python interpreter and its own GIL, effectively bypassing the GIL limitation and allowing true parallelism for CPU-bound tasks on multi-core systems.\n",
        "          - Best for: CPU-bound tasks (e.g., complex calculations, data processing) where parallel execution on multiple CPU cores significantly improves performance."
      ],
      "metadata": {
        "id": "oN0jM4O1Dm71"
      }
    },
    {
      "cell_type": "markdown",
      "source": [
        "10. What are the advantages of using logging in a program?\n",
        "\n",
        "  - Enhanced Debugging: Logging provides detailed information about program execution, including timestamps, log levels (e.g., DEBUG, INFO, WARNING, ERROR, CRITICAL), module names, and line numbers. This rich context makes it far easier to pinpoint and diagnose issues compared to basic print() output.\n",
        "  - Granular Control and Filtering: Logging allows you to categorize messages by severity levels. This enables filtering of log output, showing only critical errors in production while displaying detailed debug information during development, without modifying the code.\n",
        "  - Flexible Output Destinations: Logs can be directed to various destinations, such as the console, files, or even network services. This flexibility allows for centralized log collection and analysis, which is crucial for monitoring large-scale applications.\n",
        "  - Post-Mortem Analysis: Logs provide a historical record of program events, enabling post-mortem analysis of crashes or unexpected behavior. This audit trail is invaluable for understanding how an issue occurred and for identifying patterns or trends over time.\n",
        "  - Improved Maintainability: Logging centralizes the handling of informational and error messages, promoting consistent formatting and behavior across the application. This reduces the maintenance burden compared to scattered print() statements.\n",
        "  - Performance Considerations: Logging can be configured to write messages asynchronously, minimizing the performance impact on the main application execution, especially when dealing with high volumes of log data.\n",
        "  - Integration with External Modules: The standard Python logging module ensures that messages from your own code and from third-party libraries can be seamlessly integrated into a single, cohesive log stream."
      ],
      "metadata": {
        "id": "79LWu4urEwuG"
      }
    },
    {
      "cell_type": "markdown",
      "source": [
        "11. What is memory management in Python?\n",
        "\n",
        "  - Memory management in Python is primarily handled by the Python Memory Manager, which uses a private heap to store all Python objects and data structures. This process is largely automatic, abstracting away the complexities of memory allocation and deallocation from the developer."
      ],
      "metadata": {
        "id": "n3hqAGl2FmII"
      }
    },
    {
      "cell_type": "markdown",
      "source": [
        "12. What are the basic steps involved in exception handling in Python?\n",
        "\n",
        "  - try Block: This block contains the code that is expected to potentially raise an exception. Python attempts to execute the code within this block. If an exception occurs, the execution of the try block immediately stops, and control is transferred to the appropriate except block.\n",
        "  - except Block(s): These blocks are used to handle specific exceptions that might occur in the try block. If an exception listed in an except block occurs, the code within that except block is executed. Multiple except blocks can be used to handle different types of exceptions. A general except block can also be used to catch any unhandled exceptions.\n",
        "  - else Block (Optional): If included, the else block must follow all except blocks. The code within the else block is executed only if no exceptions are raised within the try block.\n",
        "  - finally Block (Optional): The finally block always executes, regardless of whether an exception occurred in the try block or not. It is typically used for cleanup operations, such as closing files or releasing resources, ensuring these actions happen even if an error disrupts the normal flow."
      ],
      "metadata": {
        "id": "49EJqoIgF4Fp"
      }
    },
    {
      "cell_type": "markdown",
      "source": [
        "13. Why is memory management important in Python?\n",
        "\n",
        "  - The reasons are as follows:-\n",
        "      - Performance Optimization: Efficient memory usage directly impacts program performance. Poor memory management can lead to excessive memory consumption, increased processing times, and overall slower application execution, especially when dealing with large datasets or complex operations.\n",
        "      - Preventing Memory Leaks: Understanding how Python manages memory helps in identifying and preventing memory leaks. A memory leak occurs when a program continuously consumes memory without releasing it, even when the memory is no longer needed. This can eventually lead to system slowdowns or crashes.\n",
        "      - Resource Management: Proper memory management ensures that your application uses system resources effectively. By allocating and deallocating memory efficiently, Python programs can run smoothly alongside other applications on the system without causing resource contention.\n",
        "      - Debugging Memory-Related Issues: Knowledge of Python's memory management mechanisms, such as reference counting and garbage collection, is essential for debugging memory-related issues like high memory usage or unexpected program behavior. This understanding allows developers to identify the root cause of such problems and optimize their code.\n",
        "      - Writing Efficient Code: While Python automates memory management, understanding its principles enables developers to write more memory-efficient code. This includes choosing appropriate data structures, minimizing object creation, and understanding how Python allocates and deallocates memory for various data types. This leads to more robust and scalable applications."
      ],
      "metadata": {
        "id": "GB7o3A3KGQ4v"
      }
    },
    {
      "cell_type": "markdown",
      "source": [
        "14. What is the role of try and except in exception handling?\n",
        "\n",
        "  - In Python, the try and except statements are used for exception handling, which allows programs to gracefully manage errors that might occur during execution. The try block encloses code that might raise an exception, while the except block contains code to handle the exception if it occurs. This prevents the program from crashing and allows it to continue running, potentially with an alternative course of action."
      ],
      "metadata": {
        "id": "6UBXSI6fG86h"
      }
    },
    {
      "cell_type": "markdown",
      "source": [
        "15. How does Python's garbage collection system work?\n",
        "\n",
        "  - Python's garbage collection system primarily uses reference counting as its main mechanism for memory management. It also employs a generational garbage collector to handle circular references."
      ],
      "metadata": {
        "id": "jyGo2y5EHK6k"
      }
    },
    {
      "cell_type": "markdown",
      "source": [
        "16. What is the purpose of the else block in exception handling?\n",
        "\n",
        "  - Contains code that should run only when the try block completes successfully without any exceptions."
      ],
      "metadata": {
        "id": "kaWS74I7HTrl"
      }
    },
    {
      "cell_type": "markdown",
      "source": [
        "17. What are the common logging levels in Python?\n",
        "\n",
        "  - The common logging levels, in increasing order of severity, are:\n",
        "        - DEBUG (10): Detailed information, typically of interest only when diagnosing problems. This level is useful for developers during the development and debugging phases.\n",
        "        - INFO (20): Confirmation that things are working as expected. These messages provide general information about the application's progress and state.\n",
        "        - WARNING (30): An indication that something unexpected happened, or indicative of a potential problem in the near future (e.g., 'disk space low'). The software is still working as expected.\n",
        "        - ERROR (40): Due to a more serious problem, the software has not been able to perform some function. This indicates a significant issue that needs attention.\n",
        "        - CRITICAL (50): A serious error, indicating that the program itself may be unable to continue running. This is the highest level of severity and usually signifies a catastrophic failure.\n"
      ],
      "metadata": {
        "id": "RkxI0LPCHvk4"
      }
    },
    {
      "cell_type": "markdown",
      "source": [
        "18. What is the difference between os.fork() and multiprocessing in Python?\n",
        "\n",
        "  - os.fork() offers fine-grained control and can be useful for specific low-level scenarios on POSIX systems where direct process duplication is desired. However, for general-purpose multiprocessing and cross-platform compatibility, the multiprocessing module is the preferred choice due to its higher level of abstraction, built-in IPC mechanisms, and ease of use."
      ],
      "metadata": {
        "id": "f18a-eJsIRsz"
      }
    },
    {
      "cell_type": "markdown",
      "source": [
        "19. What is the importance of closing a file in Python?\n",
        "\n",
        "  - Resource Management\n",
        "  - Data Integrity\n",
        "  - File Locking and Access\n",
        "  - Preventing \"Too Many Open Files\" Errors\n",
        "  - Good Programming Practice\n"
      ],
      "metadata": {
        "id": "7RDgpCDFIpCv"
      }
    },
    {
      "cell_type": "markdown",
      "source": [
        "20. What is the difference between file.read() and file.readline() in Python?\n",
        "\n",
        "  - read(): is for reading the entire file or a specific number of bytes/characters.\n",
        "  - readline(): is for reading one line at a time."
      ],
      "metadata": {
        "id": "Qv9nEBVcN-MN"
      }
    },
    {
      "cell_type": "markdown",
      "source": [
        "21. What is the logging module in Python used for?\n",
        "\n",
        "  - The logging module in Python is used to track events in a program's execution. It allows developers to record information about errors, warnings, and other events that occur during program execution."
      ],
      "metadata": {
        "id": "tPM6cwqLOTX6"
      }
    },
    {
      "cell_type": "markdown",
      "source": [
        "22. What is the os module in Python used for in file handling?\n",
        "\n",
        " - Python has a built-in os module with methods for interacting with the operating system, like creating files and directories, management of files and directories, input, output, environment variables, process management, etc."
      ],
      "metadata": {
        "id": "goxfrIG6OfiZ"
      }
    },
    {
      "cell_type": "markdown",
      "source": [
        "23. What are the challenges associated with memory management in Python?\n",
        "\n",
        "  - Memory management in Python, while largely automatic, presents several challenges:\n",
        "      - Memory Leaks: While Python's garbage collector handles most memory deallocation, circular references can prevent objects from being collected, leading to memory leaks where unused memory is not released back to the system. This can result in increased memory consumption over time and potential performance degradation or crashes.\n",
        "      - Performance Overhead of Garbage Collection: Python's automatic garbage collection, while convenient, can introduce performance overhead. The garbage collector periodically pauses program execution to identify and reclaim unused memory, which can lead to noticeable delays, especially in performance-critical applications or when dealing with large numbers of objects.\n",
        "      - Lack of Fine-Grained Control: Python's memory management is mostly handled internally by the interpreter, offering less manual control compared to languages like C or C++. This abstraction can make it challenging to optimize memory usage for specific scenarios or to diagnose subtle memory-related issues.\n",
        "      - Memory Fragmentation: Dynamic allocation and deallocation of memory can lead to fragmentation, where free memory is scattered in small, non-contiguous blocks. This can make it difficult for the system to allocate large, contiguous blocks of memory when needed, even if the total free memory is sufficient.\n",
        "      - Understanding Object Lifecycles: While reference counting is the primary mechanism for memory management, understanding how Python objects are created, referenced, and ultimately deallocated is crucial for writing memory-efficient code and avoiding unintended memory retention.\n",
        "      - High Memory Consumption for Certain Operations: Python's object-oriented nature and dynamic typing can sometimes lead to higher memory consumption compared to statically typed languages. Operations involving large datasets or complex data structures can exacerbate this, requiring careful consideration of data representation and algorithms to minimize memory footprint.\n"
      ],
      "metadata": {
        "id": "NmGtGa3tOvug"
      }
    },
    {
      "cell_type": "markdown",
      "source": [
        "24.  How do you raise an exception manually in Python?\n",
        "\n",
        "  - To manually raise an exception in Python, we utilize the raise keyword. This allows us to explicitly trigger an error condition and halt the normal execution flow of our program."
      ],
      "metadata": {
        "id": "Ro_3h97fPUoP"
      }
    },
    {
      "cell_type": "markdown",
      "source": [
        "25. Why is it important to use multithreading in certain applications?\n",
        "\n",
        "  - Multithreading is important in certain applications because it allows for improved performance, responsiveness, and efficient resource utilization. By dividing tasks into smaller, concurrently executing threads, applications can achieve parallelism, especially on systems with multiple processors or cores. This leads to faster execution of complex operations, better handling of multiple user requests, and a more seamless user experience."
      ],
      "metadata": {
        "id": "VWM3iK71P36x"
      }
    },
    {
      "cell_type": "markdown",
      "source": [
        "# Practical Questions"
      ],
      "metadata": {
        "id": "LELK2_bMQXJ1"
      }
    },
    {
      "cell_type": "code",
      "source": [
        "# How can you open a file for writing in Python and write a string to it?\n",
        "\n",
        "file = open(\"file.txt\", 'w')\n",
        "file.write(\"This is the first line in the text file\")"
      ],
      "metadata": {
        "colab": {
          "base_uri": "https://localhost:8080/"
        },
        "id": "gKdx0T9TQbf1",
        "outputId": "3cb143f8-5624-4ad0-fbd8-8b15a8392fc0"
      },
      "execution_count": 18,
      "outputs": [
        {
          "output_type": "execute_result",
          "data": {
            "text/plain": [
              "39"
            ]
          },
          "metadata": {},
          "execution_count": 18
        }
      ]
    },
    {
      "cell_type": "code",
      "source": [
        "# Write a Python program to read the contents of a file and print each line.\n",
        "\n",
        "def print_file_contents_line_by_line(file_path):\n",
        "    try:\n",
        "        with open(file_path, 'r') as file:\n",
        "            for line in file:\n",
        "                print(line.strip())\n",
        "    except FileNotFoundError:\n",
        "        print(f\"Error: The file '{file_path}' was not found.\")\n",
        "    except Exception as e:\n",
        "        print(f\"An error occurred while reading the file: {e}\")\n",
        "\n",
        "with open(\"sample.txt\", \"w\") as f:\n",
        "    f.write(\"This is line 1.\\n\")\n",
        "    f.write(\"This is line 2.\\n\")\n",
        "    f.write(\"And this is line 3.\")\n",
        "\n",
        "print_file_contents_line_by_line(\"sample.txt\")\n",
        "print_file_contents_line_by_line(\"non_existent_file.txt\")"
      ],
      "metadata": {
        "colab": {
          "base_uri": "https://localhost:8080/"
        },
        "id": "Wv_sFV5JRdMn",
        "outputId": "abec7d95-ca62-44fb-fc2e-f05cc688b3f7"
      },
      "execution_count": 19,
      "outputs": [
        {
          "output_type": "stream",
          "name": "stdout",
          "text": [
            "This is line 1.\n",
            "This is line 2.\n",
            "And this is line 3.\n",
            "Error: The file 'non_existent_file.txt' was not found.\n"
          ]
        }
      ]
    },
    {
      "cell_type": "code",
      "source": [
        "# How would you handle a case where the file doesn't exist while trying to open it for reading?\n",
        "\n",
        "import os\n",
        "fp = \"abc.txt\"\n",
        "\n",
        "if os.path.exists(fp):\n",
        "    with open(fp, \"r\") as f:\n",
        "        data = f.read()\n",
        "else:\n",
        "    print(\"Not found!\")"
      ],
      "metadata": {
        "colab": {
          "base_uri": "https://localhost:8080/"
        },
        "id": "6QgVI1HRU1yG",
        "outputId": "5096880a-b151-4bb0-bc5e-faa56b7c45c1"
      },
      "execution_count": 20,
      "outputs": [
        {
          "output_type": "stream",
          "name": "stdout",
          "text": [
            "Not found!\n"
          ]
        }
      ]
    },
    {
      "cell_type": "code",
      "source": [
        "# Write a Python script that reads from one file and writes its content to another file.\n",
        "\n",
        "def copy_file_content(source_file_path, destination_file_path):\n",
        "    try:\n",
        "        with open(source_file_path, 'r') as source_file:\n",
        "            content = source_file.read()\n",
        "\n",
        "        with open(destination_file_path, 'w') as destination_file:\n",
        "            destination_file.write(content)\n",
        "\n",
        "        print(f\"Content successfully copied from '{source_file_path}' to '{destination_file_path}'.\")\n",
        "\n",
        "    except FileNotFoundError:\n",
        "        print(f\"Error: One of the files was not found. Please check the paths.\")\n",
        "    except Exception as e:\n",
        "        print(f\"An error occurred: {e}\")\n",
        "\n",
        "if __name__ == \"__main__\":\n",
        "    with open(\"source.txt\", \"w\") as f:\n",
        "        f.write(\"This is some content from the source file.\\n\")\n",
        "        f.write(\"It has multiple lines.\\n\")\n",
        "\n",
        "    copy_file_content(\"source.txt\", \"destination.txt\")\n",
        "\n",
        "    copy_file_content(\"source.txt\", \"new_destination.txt\")"
      ],
      "metadata": {
        "colab": {
          "base_uri": "https://localhost:8080/"
        },
        "id": "3LDjsxX2Vb9g",
        "outputId": "bee351f3-754b-4063-99ef-e1da1f2a4453"
      },
      "execution_count": 21,
      "outputs": [
        {
          "output_type": "stream",
          "name": "stdout",
          "text": [
            "Content successfully copied from 'source.txt' to 'destination.txt'.\n",
            "Content successfully copied from 'source.txt' to 'new_destination.txt'.\n"
          ]
        }
      ]
    },
    {
      "cell_type": "code",
      "source": [
        "# How would you catch and handle division by zero error in Python?\n",
        "\n",
        "try:\n",
        "  numerator = 10\n",
        "  denominator = 0\n",
        "  result = numerator / denominator\n",
        "  print(f\"The result is: {result}\")\n",
        "except ZeroDivisionError:\n",
        "  print(\"Error: Cannot divide by zero!\")"
      ],
      "metadata": {
        "colab": {
          "base_uri": "https://localhost:8080/"
        },
        "id": "FwnIlguuV0h2",
        "outputId": "0424de57-7f6e-43e6-870a-4f8ce02acf71"
      },
      "execution_count": 23,
      "outputs": [
        {
          "output_type": "stream",
          "name": "stdout",
          "text": [
            "Error: Cannot divide by zero!\n"
          ]
        }
      ]
    },
    {
      "cell_type": "code",
      "source": [
        "# Write a Python program that logs an error message to a log file when a division by zero exception occurs.\n",
        "\n",
        "import logging\n",
        "\n",
        "LOG_FILE = 'application_errors.log'\n",
        "logging.basicConfig(filename=LOG_FILE, level=logging.ERROR,\n",
        "                    format='%(asctime)s - %(levelname)s - %(message)s')\n",
        "\n",
        "def safe_divide(numerator, denominator):\n",
        "    try:\n",
        "        result = numerator / denominator\n",
        "        return result\n",
        "    except ZeroDivisionError:\n",
        "        error_message = f\"Attempted division by zero: {numerator} / {denominator}\"\n",
        "        logging.error(error_message)\n",
        "        return None\n",
        "\n",
        "print(f\"Dividing 10 by 2: {safe_divide(10, 2)}\")\n",
        "print(f\"Dividing 5 by 0: {safe_divide(5, 0)}\")\n",
        "print(f\"Dividing 20 by 4: {safe_divide(20, 4)}\")\n",
        "\n",
        "print(f\"\\nCheck '{LOG_FILE}' for logged errors.\")"
      ],
      "metadata": {
        "colab": {
          "base_uri": "https://localhost:8080/"
        },
        "id": "atHqcl_AWI10",
        "outputId": "cd937616-66aa-4626-ca70-4cde558a0bdf"
      },
      "execution_count": 24,
      "outputs": [
        {
          "output_type": "stream",
          "name": "stderr",
          "text": [
            "ERROR:root:Attempted division by zero: 5 / 0\n"
          ]
        },
        {
          "output_type": "stream",
          "name": "stdout",
          "text": [
            "Dividing 10 by 2: 5.0\n",
            "Dividing 5 by 0: None\n",
            "Dividing 20 by 4: 5.0\n",
            "\n",
            "Check 'application_errors.log' for logged errors.\n"
          ]
        }
      ]
    },
    {
      "cell_type": "code",
      "source": [
        "# How do you log information at different levels (INFO, ERROR, WARNING) in Python using the logging module?\n",
        "\n",
        "import logging\n",
        "\n",
        "logging.basicConfig(level=logging.INFO, format='%(levelname)s: %(message)s')\n",
        "\n",
        "logging.debug(\"This is a debug message (won't be shown with INFO level).\")\n",
        "logging.info(\"This is an informational message.\")\n",
        "logging.warning(\"This is a warning message, something might be wrong.\")\n",
        "logging.error(\"This is an error message, an issue occurred.\")\n",
        "logging.critical(\"This is a critical error, the application might stop.\")"
      ],
      "metadata": {
        "colab": {
          "base_uri": "https://localhost:8080/"
        },
        "id": "LSReos12XW3v",
        "outputId": "6db538fc-76f2-4bbe-d2a8-614b2be9053a"
      },
      "execution_count": 25,
      "outputs": [
        {
          "output_type": "stream",
          "name": "stderr",
          "text": [
            "WARNING:root:This is a warning message, something might be wrong.\n",
            "ERROR:root:This is an error message, an issue occurred.\n",
            "CRITICAL:root:This is a critical error, the application might stop.\n"
          ]
        }
      ]
    },
    {
      "cell_type": "code",
      "source": [
        "# Write a program to handle a file opening error using exception handling.\n",
        "\n",
        "def open_and_read_file(filepath):\n",
        "    try:\n",
        "        with open(filepath, 'r') as file:\n",
        "            content = file.read()\n",
        "            print(f\"File '{filepath}' opened successfully. Content:\\n{content}\")\n",
        "    except FileNotFoundError:\n",
        "        print(f\"Error: The file '{filepath}' was not found.\")\n",
        "    except IOError as e:\n",
        "        print(f\"Error: An I/O error occurred while accessing '{filepath}': {e}\")\n",
        "    except Exception as e:\n",
        "        print(f\"An unexpected error occurred: {e}\")\n",
        "\n",
        "print(\"--- Attempting to open an existing file ---\")\n",
        "with open(\"existing_file.txt\", \"w\") as f:\n",
        "    f.write(\"This is a test file.\")\n",
        "open_and_read_file(\"existing_file.txt\")\n",
        "\n",
        "print(\"\\n--- Attempting to open a non-existent file ---\")\n",
        "open_and_read_file(\"non_existent_file.txt\")\n",
        "print(\"\\n--- Attempting to open a file with permission issues (example) ---\")\n"
      ],
      "metadata": {
        "colab": {
          "base_uri": "https://localhost:8080/"
        },
        "id": "7rLUNOotX990",
        "outputId": "7a10762a-2976-45cf-944b-c1942587fb1d"
      },
      "execution_count": 26,
      "outputs": [
        {
          "output_type": "stream",
          "name": "stdout",
          "text": [
            "--- Attempting to open an existing file ---\n",
            "File 'existing_file.txt' opened successfully. Content:\n",
            "This is a test file.\n",
            "\n",
            "--- Attempting to open a non-existent file ---\n",
            "Error: The file 'non_existent_file.txt' was not found.\n",
            "\n",
            "--- Attempting to open a file with permission issues (example) ---\n"
          ]
        }
      ]
    },
    {
      "cell_type": "code",
      "source": [
        "# How can you read a file line by line and store its content in a list in Python?\n",
        "\n",
        "file_path = 'my_file.txt'  # Replace with your file path\n",
        "\n",
        "try:\n",
        "    with open(file_path, 'r') as file:\n",
        "        lines = file.readlines()\n",
        "\n",
        "    cleaned_lines = [line.strip() for line in lines]\n",
        "\n",
        "    print(\"Original lines (with newlines):\")\n",
        "    for line in lines:\n",
        "        print(line, end='')  # Use end='' to prevent double newlines\n",
        "\n",
        "    print(\"\\nCleaned lines (without newlines):\")\n",
        "    for line in cleaned_lines:\n",
        "        print(line)\n",
        "\n",
        "except FileNotFoundError:\n",
        "    print(f\"Error: The file '{file_path}' was not found.\")\n",
        "except Exception as e:\n",
        "    print(f\"An error occurred: {e}\")"
      ],
      "metadata": {
        "colab": {
          "base_uri": "https://localhost:8080/"
        },
        "id": "papLY0FkYhlo",
        "outputId": "7df16365-66b1-404f-a815-635ea273c831"
      },
      "execution_count": 27,
      "outputs": [
        {
          "output_type": "stream",
          "name": "stdout",
          "text": [
            "Error: The file 'my_file.txt' was not found.\n"
          ]
        }
      ]
    },
    {
      "cell_type": "code",
      "source": [
        "# How can you append data to an existing file in Python?\n",
        "\n",
        "with open('my_data.txt', 'w') as f:\n",
        "    f.write('Existing data line 1.\\n')\n",
        "    f.write('Existing data line 2.\\n')\n",
        "\n",
        "with open('my_data.txt', 'a') as file:\n",
        "    file.write('This line is appended.\\n')\n",
        "    file.write('Another appended line.\\n')\n",
        "\n",
        "with open('my_data.txt', 'r') as file:\n",
        "    content = file.read()\n",
        "    print(content)"
      ],
      "metadata": {
        "colab": {
          "base_uri": "https://localhost:8080/"
        },
        "id": "p509YkHpY1Wl",
        "outputId": "503f37af-f195-4b05-8dd4-6d960ee031f7"
      },
      "execution_count": 28,
      "outputs": [
        {
          "output_type": "stream",
          "name": "stdout",
          "text": [
            "Existing data line 1.\n",
            "Existing data line 2.\n",
            "This line is appended.\n",
            "Another appended line.\n",
            "\n"
          ]
        }
      ]
    },
    {
      "cell_type": "code",
      "source": [
        "# Write a Python program that uses a try-except block to handle an error when attempting to access a dictionary key that doesn't exist.\n",
        "\n",
        "def access_dictionary_key(dictionary, key):\n",
        "    try:\n",
        "        value = dictionary[key]\n",
        "        print(f\"The value for key '{key}' is: {value}\")\n",
        "    except KeyError:\n",
        "        print(f\"Error: Key '{key}' does not exist in the dictionary.\")\n",
        "\n",
        "my_dict = {\"name\": \"Alice\", \"age\": 30, \"city\": \"New York\"}\n",
        "\n",
        "access_dictionary_key(my_dict, \"name\")\n",
        "\n",
        "access_dictionary_key(my_dict, \"country\")\n",
        "\n",
        "another_dict = {\"item1\": 100, \"item2\": 200}\n",
        "access_dictionary_key(another_dict, \"item1\")\n",
        "access_dictionary_key(another_dict, \"item3\")"
      ],
      "metadata": {
        "colab": {
          "base_uri": "https://localhost:8080/"
        },
        "id": "EfjQqcVUZCn3",
        "outputId": "d07409f4-1627-4a53-9805-da2b8725794c"
      },
      "execution_count": 29,
      "outputs": [
        {
          "output_type": "stream",
          "name": "stdout",
          "text": [
            "The value for key 'name' is: Alice\n",
            "Error: Key 'country' does not exist in the dictionary.\n",
            "The value for key 'item1' is: 100\n",
            "Error: Key 'item3' does not exist in the dictionary.\n"
          ]
        }
      ]
    },
    {
      "cell_type": "code",
      "source": [
        "# Write a program that demonstrates using multiple except blocks to handle different types of exceptions.\n",
        "\n",
        "def demonstrate_multiple_exceptions(value):\n",
        "    try:\n",
        "        number = int(value)\n",
        "        result = 10 / number\n",
        "        print(f\"Result of division: {result}\")\n",
        "    except ValueError:\n",
        "        print(\"Error: Invalid input. Please enter a valid integer.\")\n",
        "    except ZeroDivisionError:\n",
        "        print(\"Error: Division by zero is not allowed.\")\n",
        "    except TypeError:\n",
        "        print(\"Error: Incompatible data type for the operation.\")\n",
        "    except Exception as e:\n",
        "        print(f\"An unexpected error occurred: {e}\")\n",
        "\n",
        "print(\"--- Test Case 1: Valid input ---\")\n",
        "demonstrate_multiple_exceptions(5)\n",
        "\n",
        "print(\"\\n--- Test Case 2: ValueError ---\")\n",
        "demonstrate_multiple_exceptions(\"abc\")\n",
        "\n",
        "print(\"\\n--- Test Case 3: ZeroDivisionError ---\")\n",
        "demonstrate_multiple_exceptions(0)\n",
        "\n",
        "print(\"\\n--- Test Case 4: TypeError (example of an unexpected error) ---\")\n",
        "demonstrate_multiple_exceptions([1, 2])"
      ],
      "metadata": {
        "colab": {
          "base_uri": "https://localhost:8080/"
        },
        "id": "eULLMFBtZish",
        "outputId": "1c79d137-e153-484a-89e1-86c817f0079e"
      },
      "execution_count": 30,
      "outputs": [
        {
          "output_type": "stream",
          "name": "stdout",
          "text": [
            "--- Test Case 1: Valid input ---\n",
            "Result of division: 2.0\n",
            "\n",
            "--- Test Case 2: ValueError ---\n",
            "Error: Invalid input. Please enter a valid integer.\n",
            "\n",
            "--- Test Case 3: ZeroDivisionError ---\n",
            "Error: Division by zero is not allowed.\n",
            "\n",
            "--- Test Case 4: TypeError (example of an unexpected error) ---\n",
            "Error: Incompatible data type for the operation.\n"
          ]
        }
      ]
    },
    {
      "cell_type": "code",
      "source": [
        "# How would you check if a file exists before attempting to read it in Python?\n",
        "\n",
        "import os\n",
        "\n",
        "file_path = \"my_document.txt\"\n",
        "\n",
        "if os.path.isfile(file_path): # Checks if it's a regular file\n",
        "    with open(file_path, 'r') as file:\n",
        "        content = file.read()\n",
        "        print(\"File content:\", content)\n",
        "else:\n",
        "    print(f\"File '{file_path}' does not exist or is not a regular file.\")"
      ],
      "metadata": {
        "colab": {
          "base_uri": "https://localhost:8080/"
        },
        "id": "p2ry02_daJ2g",
        "outputId": "7837db1d-f5e2-49fc-f041-0478b0b1d2e4"
      },
      "execution_count": 31,
      "outputs": [
        {
          "output_type": "stream",
          "name": "stdout",
          "text": [
            "File 'my_document.txt' does not exist or is not a regular file.\n"
          ]
        }
      ]
    },
    {
      "cell_type": "code",
      "source": [
        "# Write a program that uses the logging module to log both informational and error messages.\n",
        "\n",
        "import logging\n",
        "\n",
        "logging.basicConfig(level=logging.INFO,\n",
        "                    format='%(asctime)s - %(levelname)s - %(message)s')\n",
        "\n",
        "def perform_operation(value):\n",
        "    if value > 0:\n",
        "        logging.info(f\"Operation successful: Input value is {value}\")\n",
        "        return True\n",
        "    else:\n",
        "        logging.error(f\"Operation failed: Input value {value} is not positive.\")\n",
        "        return False\n",
        "\n",
        "logging.info(\"Starting the application.\")\n",
        "\n",
        "result1 = perform_operation(10)\n",
        "if result1:\n",
        "    logging.info(\"First operation completed successfully.\")\n",
        "else:\n",
        "    logging.warning(\"First operation encountered an issue.\")\n",
        "\n",
        "result2 = perform_operation(-5)\n",
        "if result2:\n",
        "    logging.info(\"Second operation completed successfully.\")\n",
        "else:\n",
        "    logging.warning(\"Second operation encountered an issue.\")\n",
        "\n",
        "logging.info(\"Application finished.\")"
      ],
      "metadata": {
        "colab": {
          "base_uri": "https://localhost:8080/"
        },
        "id": "O1wfqmNjamTV",
        "outputId": "f312b102-3c3e-40d9-e2b5-9023b0d4972e"
      },
      "execution_count": 32,
      "outputs": [
        {
          "output_type": "stream",
          "name": "stderr",
          "text": [
            "ERROR:root:Operation failed: Input value -5 is not positive.\n",
            "WARNING:root:Second operation encountered an issue.\n"
          ]
        }
      ]
    },
    {
      "cell_type": "code",
      "source": [
        "# Write a Python program that prints the content of a file and handles the case when the file is empty.\n",
        "\n",
        "import os\n",
        "\n",
        "def print_file_content(file_path):\n",
        "    try:\n",
        "        if not os.path.exists(file_path):\n",
        "            print(f\"Error: File '{file_path}' not found.\")\n",
        "            return\n",
        "\n",
        "        with open(file_path, 'r') as file:\n",
        "            content = file.read()\n",
        "\n",
        "            if not content:\n",
        "                print(f\"The file '{file_path}' is empty.\")\n",
        "            else:\n",
        "                print(f\"Content of '{file_path}':\")\n",
        "                print(content)\n",
        "\n",
        "    except IOError as e:\n",
        "        print(f\"An error occurred while reading the file: {e}\")\n",
        "\n",
        "with open(\"test_file.txt\", \"w\") as f:\n",
        "    f.write(\"This is a line of text.\\n\")\n",
        "    f.write(\"Another line.\")\n",
        "\n",
        "with open(\"empty_file.txt\", \"w\") as f:\n",
        "    pass # Creates an empty file\n",
        "\n",
        "print_file_content(\"test_file.txt\")\n",
        "print_file_content(\"empty_file.txt\")\n",
        "print_file_content(\"non_existent_file.txt\")"
      ],
      "metadata": {
        "colab": {
          "base_uri": "https://localhost:8080/"
        },
        "id": "kGynw2aRa52f",
        "outputId": "37ff8e42-63ba-4296-a0d6-86827c4cfa1c"
      },
      "execution_count": 33,
      "outputs": [
        {
          "output_type": "stream",
          "name": "stdout",
          "text": [
            "Content of 'test_file.txt':\n",
            "This is a line of text.\n",
            "Another line.\n",
            "The file 'empty_file.txt' is empty.\n",
            "Error: File 'non_existent_file.txt' not found.\n"
          ]
        }
      ]
    },
    {
      "cell_type": "code",
      "source": [
        "#  Demonstrate how to use memory profiling to check the memory usage of a small program.\n",
        "\n",
        "import tracemalloc\n",
        "\n",
        "def app():\n",
        "    lt = []\n",
        "    for i in range(0, 100000):\n",
        "        lt.append(i)\n",
        "\n",
        "tracemalloc.start()\n",
        "app()\n",
        "print(tracemalloc.get_traced_memory())\n",
        "tracemalloc.stop()"
      ],
      "metadata": {
        "colab": {
          "base_uri": "https://localhost:8080/"
        },
        "id": "2rJ8xecnbK7C",
        "outputId": "4a3b2898-1c33-4852-c09a-509719e6e327"
      },
      "execution_count": 37,
      "outputs": [
        {
          "output_type": "stream",
          "name": "stdout",
          "text": [
            "(1854, 3994555)\n"
          ]
        }
      ]
    },
    {
      "cell_type": "code",
      "source": [
        "# Write a Python program to create and write a list of numbers to a file, one number per line.\n",
        "\n",
        "def write_numbers_to_file(filename, numbers_list):\n",
        "    try:\n",
        "        with open(filename, 'w') as file:\n",
        "            for number in numbers_list:\n",
        "                file.write(str(number) + '\\n')\n",
        "        print(f\"Numbers successfully written to {filename}\")\n",
        "    except IOError as e:\n",
        "        print(f\"Error writing to file: {e}\")\n",
        "\n",
        "my_numbers = [10, 25, 7, 42, 1, 99]\n",
        "output_file = \"numbers.txt\"\n",
        "\n",
        "write_numbers_to_file(output_file, my_numbers)"
      ],
      "metadata": {
        "colab": {
          "base_uri": "https://localhost:8080/"
        },
        "id": "Mou2x_6rbkXl",
        "outputId": "c71c529a-bb21-4b86-a364-64d2d4a3b0cb"
      },
      "execution_count": 38,
      "outputs": [
        {
          "output_type": "stream",
          "name": "stdout",
          "text": [
            "Numbers successfully written to numbers.txt\n"
          ]
        }
      ]
    },
    {
      "cell_type": "code",
      "source": [
        "# How would you implement a basic logging setup that logs to a file with rotation after 1MB?\n",
        "\n",
        "import logging\n",
        "from logging.handlers import RotatingFileHandler\n",
        "\n",
        "logger = logging.getLogger('my_app_logger')\n",
        "logger.setLevel(logging.INFO)  # Set the logging level (e.g., INFO, DEBUG, WARNING, ERROR, CRITICAL)\n",
        "\n",
        "handler = RotatingFileHandler('app.log', maxBytes=1024*1024, backupCount=5)\n",
        "\n",
        "formatter = logging.Formatter('%(asctime)s - %(name)s - %(levelname)s - %(message)s')\n",
        "handler.setFormatter(formatter)\n",
        "logger.addHandler(handler)\n",
        "\n",
        "logger.info(\"This is an informational message.\")\n",
        "logger.warning(\"This is a warning message.\")\n",
        "logger.error(\"This is an error message.\")"
      ],
      "metadata": {
        "colab": {
          "base_uri": "https://localhost:8080/"
        },
        "id": "ZDAwd6k5c0bI",
        "outputId": "42ea493b-f06f-4da1-b035-afc2ec5522d3"
      },
      "execution_count": 39,
      "outputs": [
        {
          "output_type": "stream",
          "name": "stderr",
          "text": [
            "INFO:my_app_logger:This is an informational message.\n",
            "WARNING:my_app_logger:This is a warning message.\n",
            "ERROR:my_app_logger:This is an error message.\n"
          ]
        }
      ]
    },
    {
      "cell_type": "code",
      "source": [
        "# Write a program that handles both IndexError and KeyError using a try-except block.\n",
        "\n",
        "def handle_errors(data, index=None, key=None):\n",
        "    try:\n",
        "        if isinstance(data, list) and index is not None:\n",
        "            print(f\"Accessing list at index {index}: {data[index]}\")\n",
        "        elif isinstance(data, dict) and key is not None:\n",
        "            print(f\"Accessing dictionary with key '{key}': {data[key]}\")\n",
        "        else:\n",
        "            print(\"Invalid input: Please provide a list with an index or a dictionary with a key.\")\n",
        "    except IndexError:\n",
        "        print(f\"Error: IndexError occurred. Index {index} is out of bounds for the list.\")\n",
        "    except KeyError:\n",
        "        print(f\"Error: KeyError occurred. Key '{key}' not found in the dictionary.\")\n",
        "    except Exception as e:\n",
        "        print(f\"An unexpected error occurred: {e}\")\n",
        "\n",
        "my_list = [10, 20, 30]\n",
        "my_dict = {\"name\": \"Alice\", \"age\": 30}\n",
        "\n",
        "print(\"--- Testing IndexError ---\")\n",
        "handle_errors(my_list, index=1)   # Valid index\n",
        "handle_errors(my_list, index=5)   # Invalid index\n",
        "\n",
        "print(\"\\n--- Testing KeyError ---\")\n",
        "handle_errors(my_dict, key=\"name\") # Valid key\n",
        "handle_errors(my_dict, key=\"city\") # Invalid key\n",
        "\n",
        "print(\"\\n--- Testing with incorrect arguments ---\")\n",
        "handle_errors(my_list, key=\"test\") # List with a key argument\n",
        "handle_errors(my_dict, index=0)   # Dict with an index argument"
      ],
      "metadata": {
        "colab": {
          "base_uri": "https://localhost:8080/"
        },
        "id": "HBZYJCumdMjd",
        "outputId": "1bc8603d-b9c9-4d0b-8715-3f07b9f77627"
      },
      "execution_count": 40,
      "outputs": [
        {
          "output_type": "stream",
          "name": "stdout",
          "text": [
            "--- Testing IndexError ---\n",
            "Accessing list at index 1: 20\n",
            "Error: IndexError occurred. Index 5 is out of bounds for the list.\n",
            "\n",
            "--- Testing KeyError ---\n",
            "Accessing dictionary with key 'name': Alice\n",
            "Error: KeyError occurred. Key 'city' not found in the dictionary.\n",
            "\n",
            "--- Testing with incorrect arguments ---\n",
            "Invalid input: Please provide a list with an index or a dictionary with a key.\n",
            "Invalid input: Please provide a list with an index or a dictionary with a key.\n"
          ]
        }
      ]
    },
    {
      "cell_type": "code",
      "source": [
        "# How would you open a file and read its contents using a context manager in Python?\n",
        "\n",
        "file_path = \"your_file.txt\"  # Replace with the actual path to your file\n",
        "\n",
        "try:\n",
        "    with open(file_path, 'r') as file:\n",
        "        file_contents = file.read()\n",
        "        print(file_contents)\n",
        "except FileNotFoundError:\n",
        "    print(f\"Error: The file '{file_path}' was not found.\")\n",
        "except Exception as e:\n",
        "    print(f\"An error occurred: {e}\")"
      ],
      "metadata": {
        "colab": {
          "base_uri": "https://localhost:8080/"
        },
        "id": "dkcA15Nade2m",
        "outputId": "be9f0ce6-6bbc-4a15-9ed9-720758867677"
      },
      "execution_count": 41,
      "outputs": [
        {
          "output_type": "stream",
          "name": "stdout",
          "text": [
            "Error: The file 'your_file.txt' was not found.\n"
          ]
        }
      ]
    },
    {
      "cell_type": "code",
      "source": [
        "# Write a Python program that reads a file and prints the number of occurrences of a specific word.\n",
        "\n",
        "def count_word_occurrences(file_path, word_to_find):\n",
        "    count = 0\n",
        "    try:\n",
        "        with open(file_path, 'r', encoding='utf-8') as file:\n",
        "            content = file.read()\n",
        "\n",
        "            content_lower = content.lower()\n",
        "            word_to_find_lower = word_to_find.lower()\n",
        "\n",
        "\n",
        "            words = content_lower.split()\n",
        "            count = words.count(word_to_find_lower)\n",
        "    except FileNotFoundError:\n",
        "        print(f\"Error: The file '{file_path}' was not found.\")\n",
        "    except Exception as e:\n",
        "        print(f\"An error occurred: {e}\")\n",
        "    return count\n",
        "\n",
        "file_name = \"sample.txt\"  # Replace with your file name\n",
        "search_word = \"python\"  # Replace with the word you want to count\n",
        "\n",
        "try:\n",
        "    with open(file_name, 'w', encoding='utf-8') as f:\n",
        "        f.write(\"Python is a great programming language. I love Python. Learning python is fun.\")\n",
        "except Exception as e:\n",
        "    print(f\"Could not create sample file: {e}\")\n",
        "\n",
        "occurrences = count_word_occurrences(file_name, search_word)\n",
        "\n",
        "if occurrences > 0:\n",
        "    print(f\"The word '{search_word}' appears {occurrences} times in '{file_name}'.\")\n",
        "else:\n",
        "    print(f\"The word '{search_word}' was not found in '{file_name}' or an error occurred.\")\n"
      ],
      "metadata": {
        "colab": {
          "base_uri": "https://localhost:8080/"
        },
        "id": "_lKbYEo4dp1E",
        "outputId": "48d22b3a-568a-4a46-d9dd-01f11b43405c"
      },
      "execution_count": 42,
      "outputs": [
        {
          "output_type": "stream",
          "name": "stdout",
          "text": [
            "The word 'python' appears 2 times in 'sample.txt'.\n"
          ]
        }
      ]
    },
    {
      "cell_type": "code",
      "source": [
        "# How can you check if a file is empty before attempting to read its contents?\n",
        "\n",
        "import os\n",
        "\n",
        "def is_file_empty(file_path):\n",
        "    if not os.path.exists(file_path):\n",
        "        return False  # File does not exist\n",
        "    try:\n",
        "        return os.path.getsize(file_path) == 0\n",
        "    except OSError:\n",
        "        return False\n",
        "\n",
        "file_to_check = \"my_file.txt\"\n",
        "\n",
        "with open(file_to_check, 'w') as f:\n",
        "    pass\n",
        "\n",
        "if is_file_empty(file_to_check):\n",
        "    print(f\"'{file_to_check}' is empty. Not reading its contents.\")\n",
        "else:\n",
        "    print(f\"'{file_to_check}' is not empty. Proceeding to read contents.\")\n",
        "\n",
        "with open(\"non_empty_file.txt\", 'w') as f:\n",
        "    f.write(\"Some content.\")\n",
        "\n",
        "if is_file_empty(\"non_empty_file.txt\"):\n",
        "    print(f\"'non_empty_file.txt' is empty. Not reading its contents.\")\n",
        "else:\n",
        "    print(f\"'non_empty_file.txt' is not empty. Proceeding to read contents.\")"
      ],
      "metadata": {
        "colab": {
          "base_uri": "https://localhost:8080/"
        },
        "id": "vFPUEwXsd4Ng",
        "outputId": "c28f4cf0-ce7b-47f3-e8c4-546688e76609"
      },
      "execution_count": 44,
      "outputs": [
        {
          "output_type": "stream",
          "name": "stdout",
          "text": [
            "'my_file.txt' is empty. Not reading its contents.\n",
            "'non_empty_file.txt' is not empty. Proceeding to read contents.\n"
          ]
        }
      ]
    },
    {
      "cell_type": "code",
      "source": [
        "# Write a Python program that writes to a log file when an error occurs during file handling.\n",
        "\n",
        "import logging\n",
        "import os\n",
        "\n",
        "log_file_name = \"file_handling_errors.log\"\n",
        "logging.basicConfig(\n",
        "    filename=log_file_name,\n",
        "    level=logging.ERROR,\n",
        "    format=\"%(asctime)s - %(levelname)s - %(message)s\",\n",
        ")\n",
        "\n",
        "def read_file_content(file_path):\n",
        "    try:\n",
        "        with open(file_path, 'r') as file:\n",
        "            content = file.read()\n",
        "        print(f\"Successfully read content from {file_path}\")\n",
        "        return content\n",
        "    except FileNotFoundError:\n",
        "        logging.error(f\"File not found: {file_path}\")\n",
        "        print(f\"Error: The file '{file_path}' was not found.\")\n",
        "        return None\n",
        "    except IOError as e:\n",
        "        logging.error(f\"IOError when reading {file_path}: {e}\")\n",
        "        print(f\"Error: An I/O error occurred while reading '{file_path}': {e}\")\n",
        "        return None\n",
        "    except Exception as e:\n",
        "        logging.error(f\"An unexpected error occurred while reading {file_path}: {e}\")\n",
        "        print(f\"Error: An unexpected error occurred while reading '{file_path}': {e}\")\n",
        "        return None\n",
        "\n",
        "def write_to_file(file_path, data):\n",
        "    try:\n",
        "        with open(file_path, 'w') as file:\n",
        "            file.write(data)\n",
        "        print(f\"Successfully wrote to {file_path}\")\n",
        "    except IOError as e:\n",
        "        logging.error(f\"IOError when writing to {file_path}: {e}\")\n",
        "        print(f\"Error: An I/O error occurred while writing to '{file_path}': {e}\")\n",
        "    except Exception as e:\n",
        "        logging.error(f\"An unexpected error occurred while writing to {file_path}: {e}\")\n",
        "        print(f\"Error: An unexpected error occurred while writing to '{file_path}': {e}\")\n",
        "\n",
        "if __name__ == \"__main__\":\n",
        "\n",
        "    non_existent_file = \"non_existent.txt\"\n",
        "    existing_file = \"test_file.txt\"\n",
        "    read_only_directory = \"/sys\"\n",
        "\n",
        "\n",
        "    read_file_content(non_existent_file)\n",
        "\n",
        "    write_to_file(existing_file, \"This is some test data.\")\n",
        "\n",
        "    read_file_content(existing_file)\n",
        "\n",
        "    write_to_file(os.path.join(read_only_directory, \"attempted_write.txt\"), \"Secret data.\")\n",
        "\n",
        "    if os.path.exists(existing_file):\n",
        "        os.remove(existing_file)\n",
        "        print(f\"Cleaned up {existing_file}\")\n",
        "\n",
        "    print(f\"\\nCheck '{log_file_name}' for error logs.\")"
      ],
      "metadata": {
        "colab": {
          "base_uri": "https://localhost:8080/"
        },
        "id": "vfjV2cydeORp",
        "outputId": "7ff0a60c-216e-42fd-ae15-9834416a0dc8"
      },
      "execution_count": 45,
      "outputs": [
        {
          "output_type": "stream",
          "name": "stderr",
          "text": [
            "ERROR:root:File not found: non_existent.txt\n",
            "ERROR:root:IOError when writing to /sys/attempted_write.txt: [Errno 30] Read-only file system: '/sys/attempted_write.txt'\n"
          ]
        },
        {
          "output_type": "stream",
          "name": "stdout",
          "text": [
            "Error: The file 'non_existent.txt' was not found.\n",
            "Successfully wrote to test_file.txt\n",
            "Successfully read content from test_file.txt\n",
            "Error: An I/O error occurred while writing to '/sys/attempted_write.txt': [Errno 30] Read-only file system: '/sys/attempted_write.txt'\n",
            "Cleaned up test_file.txt\n",
            "\n",
            "Check 'file_handling_errors.log' for error logs.\n"
          ]
        }
      ]
    }
  ]
}